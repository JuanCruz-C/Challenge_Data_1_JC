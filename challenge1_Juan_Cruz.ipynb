{
  "nbformat": 4,
  "nbformat_minor": 0,
  "metadata": {
    "colab": {
      "provenance": []
    },
    "kernelspec": {
      "name": "python3",
      "display_name": "Python 3"
    },
    "language_info": {
      "name": "python"
    }
  },
  "cells": [
    {
      "cell_type": "markdown",
      "source": [
        "### Importación de datos\n",
        "\n"
      ],
      "metadata": {
        "id": "RhEdWd9YUR6H"
      }
    },
    {
      "cell_type": "code",
      "execution_count": null,
      "metadata": {
        "colab": {
          "base_uri": "https://localhost:8080/",
          "height": 293
        },
        "id": "T3EvaeQ_INIL",
        "outputId": "2224dd3b-f8fc-4d47-8e27-a7aea041eaf6"
      },
      "outputs": [
        {
          "output_type": "execute_result",
          "data": {
            "text/plain": [
              "            Producto Categoría del Producto    Precio  Costo de envío  \\\n",
              "0  Asistente virtual           Electrónicos  164300.0          6900.0   \n",
              "1    Mesa de comedor                Muebles  192300.0          8400.0   \n",
              "2      Juego de mesa               Juguetes  209600.0         15900.0   \n",
              "3         Microondas      Electrodomésticos  757500.0         41000.0   \n",
              "4   Silla de oficina                Muebles  335200.0         20200.0   \n",
              "\n",
              "  Fecha de Compra         Vendedor Lugar de Compra  Calificación  \\\n",
              "0      16/01/2021      Pedro Gomez          Bogotá             4   \n",
              "1      18/05/2022  Beatriz Morales        Medellín             1   \n",
              "2      15/03/2021   Juan Fernandez       Cartagena             1   \n",
              "3      03/05/2022   Juan Fernandez            Cali             4   \n",
              "4      07/11/2020    Maria Alfonso        Medellín             5   \n",
              "\n",
              "       Método de pago  Cantidad de cuotas       lat       lon  \n",
              "0  Tarjeta de crédito                   8   4.60971 -74.08175  \n",
              "1  Tarjeta de crédito                   4   6.25184 -75.56359  \n",
              "2  Tarjeta de crédito                   1  10.39972 -75.51444  \n",
              "3               Nequi                   1   3.43722 -76.52250  \n",
              "4               Nequi                   1   6.25184 -75.56359  "
            ],
            "text/html": [
              "\n",
              "  <div id=\"df-b0efaed4-b0ce-4039-a9e7-950ce5fa34a3\" class=\"colab-df-container\">\n",
              "    <div>\n",
              "<style scoped>\n",
              "    .dataframe tbody tr th:only-of-type {\n",
              "        vertical-align: middle;\n",
              "    }\n",
              "\n",
              "    .dataframe tbody tr th {\n",
              "        vertical-align: top;\n",
              "    }\n",
              "\n",
              "    .dataframe thead th {\n",
              "        text-align: right;\n",
              "    }\n",
              "</style>\n",
              "<table border=\"1\" class=\"dataframe\">\n",
              "  <thead>\n",
              "    <tr style=\"text-align: right;\">\n",
              "      <th></th>\n",
              "      <th>Producto</th>\n",
              "      <th>Categoría del Producto</th>\n",
              "      <th>Precio</th>\n",
              "      <th>Costo de envío</th>\n",
              "      <th>Fecha de Compra</th>\n",
              "      <th>Vendedor</th>\n",
              "      <th>Lugar de Compra</th>\n",
              "      <th>Calificación</th>\n",
              "      <th>Método de pago</th>\n",
              "      <th>Cantidad de cuotas</th>\n",
              "      <th>lat</th>\n",
              "      <th>lon</th>\n",
              "    </tr>\n",
              "  </thead>\n",
              "  <tbody>\n",
              "    <tr>\n",
              "      <th>0</th>\n",
              "      <td>Asistente virtual</td>\n",
              "      <td>Electrónicos</td>\n",
              "      <td>164300.0</td>\n",
              "      <td>6900.0</td>\n",
              "      <td>16/01/2021</td>\n",
              "      <td>Pedro Gomez</td>\n",
              "      <td>Bogotá</td>\n",
              "      <td>4</td>\n",
              "      <td>Tarjeta de crédito</td>\n",
              "      <td>8</td>\n",
              "      <td>4.60971</td>\n",
              "      <td>-74.08175</td>\n",
              "    </tr>\n",
              "    <tr>\n",
              "      <th>1</th>\n",
              "      <td>Mesa de comedor</td>\n",
              "      <td>Muebles</td>\n",
              "      <td>192300.0</td>\n",
              "      <td>8400.0</td>\n",
              "      <td>18/05/2022</td>\n",
              "      <td>Beatriz Morales</td>\n",
              "      <td>Medellín</td>\n",
              "      <td>1</td>\n",
              "      <td>Tarjeta de crédito</td>\n",
              "      <td>4</td>\n",
              "      <td>6.25184</td>\n",
              "      <td>-75.56359</td>\n",
              "    </tr>\n",
              "    <tr>\n",
              "      <th>2</th>\n",
              "      <td>Juego de mesa</td>\n",
              "      <td>Juguetes</td>\n",
              "      <td>209600.0</td>\n",
              "      <td>15900.0</td>\n",
              "      <td>15/03/2021</td>\n",
              "      <td>Juan Fernandez</td>\n",
              "      <td>Cartagena</td>\n",
              "      <td>1</td>\n",
              "      <td>Tarjeta de crédito</td>\n",
              "      <td>1</td>\n",
              "      <td>10.39972</td>\n",
              "      <td>-75.51444</td>\n",
              "    </tr>\n",
              "    <tr>\n",
              "      <th>3</th>\n",
              "      <td>Microondas</td>\n",
              "      <td>Electrodomésticos</td>\n",
              "      <td>757500.0</td>\n",
              "      <td>41000.0</td>\n",
              "      <td>03/05/2022</td>\n",
              "      <td>Juan Fernandez</td>\n",
              "      <td>Cali</td>\n",
              "      <td>4</td>\n",
              "      <td>Nequi</td>\n",
              "      <td>1</td>\n",
              "      <td>3.43722</td>\n",
              "      <td>-76.52250</td>\n",
              "    </tr>\n",
              "    <tr>\n",
              "      <th>4</th>\n",
              "      <td>Silla de oficina</td>\n",
              "      <td>Muebles</td>\n",
              "      <td>335200.0</td>\n",
              "      <td>20200.0</td>\n",
              "      <td>07/11/2020</td>\n",
              "      <td>Maria Alfonso</td>\n",
              "      <td>Medellín</td>\n",
              "      <td>5</td>\n",
              "      <td>Nequi</td>\n",
              "      <td>1</td>\n",
              "      <td>6.25184</td>\n",
              "      <td>-75.56359</td>\n",
              "    </tr>\n",
              "  </tbody>\n",
              "</table>\n",
              "</div>\n",
              "    <div class=\"colab-df-buttons\">\n",
              "\n",
              "  <div class=\"colab-df-container\">\n",
              "    <button class=\"colab-df-convert\" onclick=\"convertToInteractive('df-b0efaed4-b0ce-4039-a9e7-950ce5fa34a3')\"\n",
              "            title=\"Convert this dataframe to an interactive table.\"\n",
              "            style=\"display:none;\">\n",
              "\n",
              "  <svg xmlns=\"http://www.w3.org/2000/svg\" height=\"24px\" viewBox=\"0 -960 960 960\">\n",
              "    <path d=\"M120-120v-720h720v720H120Zm60-500h600v-160H180v160Zm220 220h160v-160H400v160Zm0 220h160v-160H400v160ZM180-400h160v-160H180v160Zm440 0h160v-160H620v160ZM180-180h160v-160H180v160Zm440 0h160v-160H620v160Z\"/>\n",
              "  </svg>\n",
              "    </button>\n",
              "\n",
              "  <style>\n",
              "    .colab-df-container {\n",
              "      display:flex;\n",
              "      gap: 12px;\n",
              "    }\n",
              "\n",
              "    .colab-df-convert {\n",
              "      background-color: #E8F0FE;\n",
              "      border: none;\n",
              "      border-radius: 50%;\n",
              "      cursor: pointer;\n",
              "      display: none;\n",
              "      fill: #1967D2;\n",
              "      height: 32px;\n",
              "      padding: 0 0 0 0;\n",
              "      width: 32px;\n",
              "    }\n",
              "\n",
              "    .colab-df-convert:hover {\n",
              "      background-color: #E2EBFA;\n",
              "      box-shadow: 0px 1px 2px rgba(60, 64, 67, 0.3), 0px 1px 3px 1px rgba(60, 64, 67, 0.15);\n",
              "      fill: #174EA6;\n",
              "    }\n",
              "\n",
              "    .colab-df-buttons div {\n",
              "      margin-bottom: 4px;\n",
              "    }\n",
              "\n",
              "    [theme=dark] .colab-df-convert {\n",
              "      background-color: #3B4455;\n",
              "      fill: #D2E3FC;\n",
              "    }\n",
              "\n",
              "    [theme=dark] .colab-df-convert:hover {\n",
              "      background-color: #434B5C;\n",
              "      box-shadow: 0px 1px 3px 1px rgba(0, 0, 0, 0.15);\n",
              "      filter: drop-shadow(0px 1px 2px rgba(0, 0, 0, 0.3));\n",
              "      fill: #FFFFFF;\n",
              "    }\n",
              "  </style>\n",
              "\n",
              "    <script>\n",
              "      const buttonEl =\n",
              "        document.querySelector('#df-b0efaed4-b0ce-4039-a9e7-950ce5fa34a3 button.colab-df-convert');\n",
              "      buttonEl.style.display =\n",
              "        google.colab.kernel.accessAllowed ? 'block' : 'none';\n",
              "\n",
              "      async function convertToInteractive(key) {\n",
              "        const element = document.querySelector('#df-b0efaed4-b0ce-4039-a9e7-950ce5fa34a3');\n",
              "        const dataTable =\n",
              "          await google.colab.kernel.invokeFunction('convertToInteractive',\n",
              "                                                    [key], {});\n",
              "        if (!dataTable) return;\n",
              "\n",
              "        const docLinkHtml = 'Like what you see? Visit the ' +\n",
              "          '<a target=\"_blank\" href=https://colab.research.google.com/notebooks/data_table.ipynb>data table notebook</a>'\n",
              "          + ' to learn more about interactive tables.';\n",
              "        element.innerHTML = '';\n",
              "        dataTable['output_type'] = 'display_data';\n",
              "        await google.colab.output.renderOutput(dataTable, element);\n",
              "        const docLink = document.createElement('div');\n",
              "        docLink.innerHTML = docLinkHtml;\n",
              "        element.appendChild(docLink);\n",
              "      }\n",
              "    </script>\n",
              "  </div>\n",
              "\n",
              "\n",
              "    <div id=\"df-57fef242-4436-4fe2-94a3-a616231bbf59\">\n",
              "      <button class=\"colab-df-quickchart\" onclick=\"quickchart('df-57fef242-4436-4fe2-94a3-a616231bbf59')\"\n",
              "                title=\"Suggest charts\"\n",
              "                style=\"display:none;\">\n",
              "\n",
              "<svg xmlns=\"http://www.w3.org/2000/svg\" height=\"24px\"viewBox=\"0 0 24 24\"\n",
              "     width=\"24px\">\n",
              "    <g>\n",
              "        <path d=\"M19 3H5c-1.1 0-2 .9-2 2v14c0 1.1.9 2 2 2h14c1.1 0 2-.9 2-2V5c0-1.1-.9-2-2-2zM9 17H7v-7h2v7zm4 0h-2V7h2v10zm4 0h-2v-4h2v4z\"/>\n",
              "    </g>\n",
              "</svg>\n",
              "      </button>\n",
              "\n",
              "<style>\n",
              "  .colab-df-quickchart {\n",
              "      --bg-color: #E8F0FE;\n",
              "      --fill-color: #1967D2;\n",
              "      --hover-bg-color: #E2EBFA;\n",
              "      --hover-fill-color: #174EA6;\n",
              "      --disabled-fill-color: #AAA;\n",
              "      --disabled-bg-color: #DDD;\n",
              "  }\n",
              "\n",
              "  [theme=dark] .colab-df-quickchart {\n",
              "      --bg-color: #3B4455;\n",
              "      --fill-color: #D2E3FC;\n",
              "      --hover-bg-color: #434B5C;\n",
              "      --hover-fill-color: #FFFFFF;\n",
              "      --disabled-bg-color: #3B4455;\n",
              "      --disabled-fill-color: #666;\n",
              "  }\n",
              "\n",
              "  .colab-df-quickchart {\n",
              "    background-color: var(--bg-color);\n",
              "    border: none;\n",
              "    border-radius: 50%;\n",
              "    cursor: pointer;\n",
              "    display: none;\n",
              "    fill: var(--fill-color);\n",
              "    height: 32px;\n",
              "    padding: 0;\n",
              "    width: 32px;\n",
              "  }\n",
              "\n",
              "  .colab-df-quickchart:hover {\n",
              "    background-color: var(--hover-bg-color);\n",
              "    box-shadow: 0 1px 2px rgba(60, 64, 67, 0.3), 0 1px 3px 1px rgba(60, 64, 67, 0.15);\n",
              "    fill: var(--button-hover-fill-color);\n",
              "  }\n",
              "\n",
              "  .colab-df-quickchart-complete:disabled,\n",
              "  .colab-df-quickchart-complete:disabled:hover {\n",
              "    background-color: var(--disabled-bg-color);\n",
              "    fill: var(--disabled-fill-color);\n",
              "    box-shadow: none;\n",
              "  }\n",
              "\n",
              "  .colab-df-spinner {\n",
              "    border: 2px solid var(--fill-color);\n",
              "    border-color: transparent;\n",
              "    border-bottom-color: var(--fill-color);\n",
              "    animation:\n",
              "      spin 1s steps(1) infinite;\n",
              "  }\n",
              "\n",
              "  @keyframes spin {\n",
              "    0% {\n",
              "      border-color: transparent;\n",
              "      border-bottom-color: var(--fill-color);\n",
              "      border-left-color: var(--fill-color);\n",
              "    }\n",
              "    20% {\n",
              "      border-color: transparent;\n",
              "      border-left-color: var(--fill-color);\n",
              "      border-top-color: var(--fill-color);\n",
              "    }\n",
              "    30% {\n",
              "      border-color: transparent;\n",
              "      border-left-color: var(--fill-color);\n",
              "      border-top-color: var(--fill-color);\n",
              "      border-right-color: var(--fill-color);\n",
              "    }\n",
              "    40% {\n",
              "      border-color: transparent;\n",
              "      border-right-color: var(--fill-color);\n",
              "      border-top-color: var(--fill-color);\n",
              "    }\n",
              "    60% {\n",
              "      border-color: transparent;\n",
              "      border-right-color: var(--fill-color);\n",
              "    }\n",
              "    80% {\n",
              "      border-color: transparent;\n",
              "      border-right-color: var(--fill-color);\n",
              "      border-bottom-color: var(--fill-color);\n",
              "    }\n",
              "    90% {\n",
              "      border-color: transparent;\n",
              "      border-bottom-color: var(--fill-color);\n",
              "    }\n",
              "  }\n",
              "</style>\n",
              "\n",
              "      <script>\n",
              "        async function quickchart(key) {\n",
              "          const quickchartButtonEl =\n",
              "            document.querySelector('#' + key + ' button');\n",
              "          quickchartButtonEl.disabled = true;  // To prevent multiple clicks.\n",
              "          quickchartButtonEl.classList.add('colab-df-spinner');\n",
              "          try {\n",
              "            const charts = await google.colab.kernel.invokeFunction(\n",
              "                'suggestCharts', [key], {});\n",
              "          } catch (error) {\n",
              "            console.error('Error during call to suggestCharts:', error);\n",
              "          }\n",
              "          quickchartButtonEl.classList.remove('colab-df-spinner');\n",
              "          quickchartButtonEl.classList.add('colab-df-quickchart-complete');\n",
              "        }\n",
              "        (() => {\n",
              "          let quickchartButtonEl =\n",
              "            document.querySelector('#df-57fef242-4436-4fe2-94a3-a616231bbf59 button');\n",
              "          quickchartButtonEl.style.display =\n",
              "            google.colab.kernel.accessAllowed ? 'block' : 'none';\n",
              "        })();\n",
              "      </script>\n",
              "    </div>\n",
              "\n",
              "    </div>\n",
              "  </div>\n"
            ],
            "application/vnd.google.colaboratory.intrinsic+json": {
              "type": "dataframe",
              "variable_name": "tienda1",
              "summary": "{\n  \"name\": \"tienda1\",\n  \"rows\": 2359,\n  \"fields\": [\n    {\n      \"column\": \"Producto\",\n      \"properties\": {\n        \"dtype\": \"category\",\n        \"num_unique_values\": 51,\n        \"samples\": [\n          \"Guitarra ac\\u00fastica\",\n          \"Bal\\u00f3n de baloncesto\",\n          \"Smartwatch\"\n        ],\n        \"semantic_type\": \"\",\n        \"description\": \"\"\n      }\n    },\n    {\n      \"column\": \"Categor\\u00eda del Producto\",\n      \"properties\": {\n        \"dtype\": \"category\",\n        \"num_unique_values\": 8,\n        \"samples\": [\n          \"Muebles\",\n          \"Deportes y diversi\\u00f3n\",\n          \"Electr\\u00f3nicos\"\n        ],\n        \"semantic_type\": \"\",\n        \"description\": \"\"\n      }\n    },\n    {\n      \"column\": \"Precio\",\n      \"properties\": {\n        \"dtype\": \"number\",\n        \"std\": 614686.7653873172,\n        \"min\": 7600.0,\n        \"max\": 2977000.0,\n        \"num_unique_values\": 1937,\n        \"samples\": [\n          2499400.0,\n          14800.0,\n          80500.0\n        ],\n        \"semantic_type\": \"\",\n        \"description\": \"\"\n      }\n    },\n    {\n      \"column\": \"Costo de env\\u00edo\",\n      \"properties\": {\n        \"dtype\": \"number\",\n        \"std\": 32860.0017825605,\n        \"min\": 0.0,\n        \"max\": 160800.0,\n        \"num_unique_values\": 753,\n        \"samples\": [\n          117800.0,\n          54700.0,\n          45600.0\n        ],\n        \"semantic_type\": \"\",\n        \"description\": \"\"\n      }\n    },\n    {\n      \"column\": \"Fecha de Compra\",\n      \"properties\": {\n        \"dtype\": \"object\",\n        \"num_unique_values\": 1018,\n        \"samples\": [\n          \"15/09/2022\",\n          \"03/06/2020\",\n          \"06/11/2021\"\n        ],\n        \"semantic_type\": \"\",\n        \"description\": \"\"\n      }\n    },\n    {\n      \"column\": \"Vendedor\",\n      \"properties\": {\n        \"dtype\": \"category\",\n        \"num_unique_values\": 14,\n        \"samples\": [\n          \"Juliana Costa\",\n          \"Mariana Herrera\",\n          \"Pedro Gomez\"\n        ],\n        \"semantic_type\": \"\",\n        \"description\": \"\"\n      }\n    },\n    {\n      \"column\": \"Lugar de Compra\",\n      \"properties\": {\n        \"dtype\": \"category\",\n        \"num_unique_values\": 19,\n        \"samples\": [\n          \"Bogot\\u00e1\",\n          \"Pereira\",\n          \"Neiva\"\n        ],\n        \"semantic_type\": \"\",\n        \"description\": \"\"\n      }\n    },\n    {\n      \"column\": \"Calificaci\\u00f3n\",\n      \"properties\": {\n        \"dtype\": \"number\",\n        \"std\": 1,\n        \"min\": 1,\n        \"max\": 5,\n        \"num_unique_values\": 5,\n        \"samples\": [\n          1,\n          2,\n          5\n        ],\n        \"semantic_type\": \"\",\n        \"description\": \"\"\n      }\n    },\n    {\n      \"column\": \"M\\u00e9todo de pago\",\n      \"properties\": {\n        \"dtype\": \"category\",\n        \"num_unique_values\": 4,\n        \"samples\": [\n          \"Nequi\",\n          \"Tarjeta de d\\u00e9bito\",\n          \"Tarjeta de cr\\u00e9dito\"\n        ],\n        \"semantic_type\": \"\",\n        \"description\": \"\"\n      }\n    },\n    {\n      \"column\": \"Cantidad de cuotas\",\n      \"properties\": {\n        \"dtype\": \"number\",\n        \"std\": 2,\n        \"min\": 1,\n        \"max\": 24,\n        \"num_unique_values\": 15,\n        \"samples\": [\n          7,\n          14,\n          8\n        ],\n        \"semantic_type\": \"\",\n        \"description\": \"\"\n      }\n    },\n    {\n      \"column\": \"lat\",\n      \"properties\": {\n        \"dtype\": \"number\",\n        \"std\": 2.2874452492678627,\n        \"min\": -4.21528,\n        \"max\": 11.54444,\n        \"num_unique_values\": 19,\n        \"samples\": [\n          4.60971,\n          4.81333,\n          2.9273\n        ],\n        \"semantic_type\": \"\",\n        \"description\": \"\"\n      }\n    },\n    {\n      \"column\": \"lon\",\n      \"properties\": {\n        \"dtype\": \"number\",\n        \"std\": 1.2178272727088486,\n        \"min\": -77.28111,\n        \"max\": -67.9239,\n        \"num_unique_values\": 19,\n        \"samples\": [\n          -74.08175,\n          -75.69611,\n          -75.28189\n        ],\n        \"semantic_type\": \"\",\n        \"description\": \"\"\n      }\n    }\n  ]\n}"
            }
          },
          "metadata": {},
          "execution_count": 41
        }
      ],
      "source": [
        "import pandas as pd\n",
        "\n",
        "url1 = \"tienda_1 .csv\"\n",
        "url2 = \"tienda_2.csv\"\n",
        "url3 = \"tienda_3.csv\"\n",
        "url4 = \"tienda_4.csv\"\n",
        "\n",
        "tienda1 = pd.read_csv(url1)\n",
        "tienda2 = pd.read_csv(url2)\n",
        "tienda3 = pd.read_csv(url3)\n",
        "tienda4 = pd.read_csv(url4)\n",
        "\n",
        "tienda1.head()"
      ]
    },
    {
      "cell_type": "markdown",
      "source": [
        "#1. Análisis de facturación\n",
        "\n"
      ],
      "metadata": {
        "id": "X62IW3KFUIYm"
      }
    },
    {
      "cell_type": "code",
      "source": [
        "valor_total_tienda1 = sum(tienda1['Precio'])\n",
        "valor_total_tienda2 = sum(tienda2['Precio'])\n",
        "valor_total_tienda3 = sum(tienda3['Precio'])\n",
        "valor_total_tienda4 = sum(tienda4['Precio'])\n",
        "\n",
        "print(f'El ingreso total de la tienda 1 es {valor_total_tienda1}')\n",
        "print(f'El ingreso total de la tienda 2 es {valor_total_tienda2}')\n",
        "print(f'El ingreso total de la tienda 3 es {valor_total_tienda3}')\n",
        "print(f'El ingreso total de la tienda 4 es {valor_total_tienda4}')"
      ],
      "metadata": {
        "colab": {
          "base_uri": "https://localhost:8080/"
        },
        "id": "R3N8Ko8ZzQmL",
        "outputId": "e9f36c29-8e72-4b97-ccac-166ddc2c1016"
      },
      "execution_count": null,
      "outputs": [
        {
          "output_type": "stream",
          "name": "stdout",
          "text": [
            "El ingreso total de la tienda 1 es 1150880400.0\n",
            "El ingreso total de la tienda 2 es 1116343500.0\n",
            "El ingreso total de la tienda 3 es 1098019600.0\n",
            "El ingreso total de la tienda 4 es 1038375700.0\n"
          ]
        }
      ]
    },
    {
      "cell_type": "markdown",
      "source": [
        "# 2. Ventas por categoría"
      ],
      "metadata": {
        "id": "2V_vcAPzWZmR"
      }
    },
    {
      "cell_type": "code",
      "source": [
        "ventas_categoria_tienda1 = tienda1['Categoría del Producto'].value_counts()\n",
        "ventas_categoria_tienda2 = tienda2['Categoría del Producto'].value_counts()\n",
        "ventas_categoria_tienda3 = tienda3['Categoría del Producto'].value_counts()\n",
        "ventas_categoria_tienda4 = tienda4['Categoría del Producto'].value_counts()"
      ],
      "metadata": {
        "id": "A34YupIuYhfF"
      },
      "execution_count": null,
      "outputs": []
    },
    {
      "cell_type": "code",
      "source": [
        "ventas_categoria_consolidado = pd.concat([ventas_categoria_tienda1, ventas_categoria_tienda2, ventas_categoria_tienda3, ventas_categoria_tienda4], axis=1)\n",
        "ventas_categoria_consolidado.columns = ['tienda1', 'tienda2', 'tienda3', 'tienda4']\n",
        "ventas_categoria_consolidado = ventas_categoria_consolidado.sort_index()\n",
        "ventas_categoria_consolidado_1 = ventas_categoria_consolidado.to_markdown()\n",
        "\n",
        "print(ventas_categoria_consolidado_1)"
      ],
      "metadata": {
        "id": "yZR6cOjXYSk1",
        "colab": {
          "base_uri": "https://localhost:8080/"
        },
        "outputId": "ea5919c5-5799-4447-ce42-86600038a77b"
      },
      "execution_count": null,
      "outputs": [
        {
          "output_type": "stream",
          "name": "stdout",
          "text": [
            "| Categoría del Producto   |   tienda1 |   tienda2 |   tienda3 |   tienda4 |\n",
            "|:-------------------------|----------:|----------:|----------:|----------:|\n",
            "| Artículos para el hogar  |       171 |       181 |       177 |       201 |\n",
            "| Deportes y diversión     |       284 |       275 |       277 |       277 |\n",
            "| Electrodomésticos        |       312 |       305 |       278 |       254 |\n",
            "| Electrónicos             |       448 |       422 |       451 |       451 |\n",
            "| Instrumentos musicales   |       182 |       224 |       177 |       170 |\n",
            "| Juguetes                 |       324 |       313 |       315 |       338 |\n",
            "| Libros                   |       173 |       197 |       185 |       187 |\n",
            "| Muebles                  |       465 |       442 |       499 |       480 |\n"
          ]
        }
      ]
    },
    {
      "cell_type": "markdown",
      "source": [
        "# 3. Calificación promedio de la tienda\n"
      ],
      "metadata": {
        "id": "Rq6tU_xSY3jk"
      }
    },
    {
      "cell_type": "code",
      "source": [
        "promedio_calificación_tienda1 = round(sum(tienda1['Calificación'])/len(tienda1['Calificación']),(3))\n",
        "promedio_calificación_tienda2 = round(sum(tienda2['Calificación'])/len(tienda2['Calificación']),(3))\n",
        "promedio_calificación_tienda3 = round(sum(tienda3['Calificación'])/len(tienda3['Calificación']),(3))\n",
        "promedio_calificación_tienda4 = round(sum(tienda4['Calificación'])/len(tienda4['Calificación']),(3))\n",
        "\n",
        "print(f'La satifacción de los clientes en la tienda 1 corresponde a {promedio_calificación_tienda1}')\n",
        "print(f'La satifacción de los clientes en la tienda 2 corresponde a {promedio_calificación_tienda2}')\n",
        "print(f'La satifacción de los clientes en la tienda 3 corresponde a {promedio_calificación_tienda3}')\n",
        "print(f'La satifacción de los clientes en la tienda 4 corresponde a {promedio_calificación_tienda4}')\n"
      ],
      "metadata": {
        "id": "bh3jjjJwY5MU",
        "colab": {
          "base_uri": "https://localhost:8080/"
        },
        "outputId": "6fbd151b-5eaf-49b9-a1fd-89ffe6006271"
      },
      "execution_count": null,
      "outputs": [
        {
          "output_type": "stream",
          "name": "stdout",
          "text": [
            "La satifacción de los clientes en la tienda 1 corresponde a 3.977\n",
            "La satifacción de los clientes en la tienda 2 corresponde a 4.037\n",
            "La satifacción de los clientes en la tienda 3 corresponde a 4.048\n",
            "La satifacción de los clientes en la tienda 4 corresponde a 3.996\n"
          ]
        }
      ]
    },
    {
      "cell_type": "markdown",
      "source": [
        "# 4. Productos más y menos vendidos"
      ],
      "metadata": {
        "id": "DmNp1KPBZCm-"
      }
    },
    {
      "cell_type": "code",
      "source": [
        "producto_mas_vendido_tienda1 = tienda1['Producto'].value_counts().max()\n",
        "nombre_producto_mas_vendido_tienda1 = tienda1['Producto'].value_counts().idxmax()\n",
        "producto_mas_vendido_tienda2 = tienda2['Producto'].value_counts().max()\n",
        "nombre_producto_mas_vendido_tienda2 = tienda2['Producto'].value_counts().idxmax()\n",
        "producto_mas_vendido_tienda3 = tienda3['Producto'].value_counts().max()\n",
        "nombre_producto_mas_vendido_tienda3 = tienda3['Producto'].value_counts().idxmax()\n",
        "producto_mas_vendido_tienda4 = tienda4['Producto'].value_counts().max()\n",
        "nombre_producto_mas_vendido_tienda4 = tienda4['Producto'].value_counts().idxmax()\n",
        "\n",
        "\n",
        "\n",
        "print(f'El producto más vendido de la tienda 1 es {nombre_producto_mas_vendido_tienda1} que corresponde a {producto_mas_vendido_tienda1} unidades')\n",
        "print(f'El producto más vendido de la tienda 2 es {nombre_producto_mas_vendido_tienda2} que corresponde a {producto_mas_vendido_tienda2} unidades')\n",
        "print(f'El producto más vendido de la tienda 3 es {nombre_producto_mas_vendido_tienda3} que corresponde a {producto_mas_vendido_tienda3} unidades')\n",
        "print(f'El producto más vendido de la tienda 4 es {nombre_producto_mas_vendido_tienda4} que corresponde a {producto_mas_vendido_tienda4} unidades')"
      ],
      "metadata": {
        "id": "qoyjqijQZHfF",
        "colab": {
          "base_uri": "https://localhost:8080/"
        },
        "outputId": "27d67527-4c89-4a65-82d3-2aa2f91fdda9"
      },
      "execution_count": null,
      "outputs": [
        {
          "output_type": "stream",
          "name": "stdout",
          "text": [
            "El producto más vendido de la tienda 1 es Microondas que corresponde a 60 unidades\n",
            "El producto más vendido de la tienda 2 es Iniciando en programación que corresponde a 65 unidades\n",
            "El producto más vendido de la tienda 3 es Kit de bancas que corresponde a 57 unidades\n",
            "El producto más vendido de la tienda 4 es Cama box que corresponde a 62 unidades\n"
          ]
        }
      ]
    },
    {
      "cell_type": "code",
      "source": [
        "producto_mas_vendido_tienda1 = tienda1['Producto'].value_counts().min()\n",
        "nombre_producto_mas_vendido_tienda1 = tienda1['Producto'].value_counts().idxmin()\n",
        "producto_mas_vendido_tienda2 = tienda2['Producto'].value_counts().min()\n",
        "nombre_producto_mas_vendido_tienda2 = tienda2['Producto'].value_counts().idxmin()\n",
        "producto_mas_vendido_tienda3 = tienda3['Producto'].value_counts().min()\n",
        "nombre_producto_mas_vendido_tienda3 = tienda3['Producto'].value_counts().idxmin()\n",
        "producto_mas_vendido_tienda4 = tienda4['Producto'].value_counts().min()\n",
        "nombre_producto_mas_vendido_tienda4 = tienda4['Producto'].value_counts().idxmin()\n",
        "\n",
        "\n",
        "\n",
        "print(f'El producto menos vendido de la tienda 1 es {nombre_producto_mas_vendido_tienda1} que corresponde a {producto_mas_vendido_tienda1} unidades')\n",
        "print(f'El producto menos vendido de la tienda 2 es {nombre_producto_mas_vendido_tienda2} que corresponde a {producto_mas_vendido_tienda2} unidades')\n",
        "print(f'El producto menos vendido de la tienda 3 es {nombre_producto_mas_vendido_tienda3} que corresponde a {producto_mas_vendido_tienda3} unidades')\n",
        "print(f'El producto menos vendido de la tienda 4 es {nombre_producto_mas_vendido_tienda4} que corresponde a {producto_mas_vendido_tienda4} unidades')"
      ],
      "metadata": {
        "id": "0Sw3sd4IZIGW",
        "colab": {
          "base_uri": "https://localhost:8080/"
        },
        "outputId": "5f32296a-4706-42c4-c906-1c7b4c458df0"
      },
      "execution_count": null,
      "outputs": [
        {
          "output_type": "stream",
          "name": "stdout",
          "text": [
            "El producto menos vendido de la tienda 1 es Auriculares con micrófono que corresponde a 33 unidades\n",
            "El producto menos vendido de la tienda 2 es Juego de mesa que corresponde a 32 unidades\n",
            "El producto menos vendido de la tienda 3 es Bloques de construcción que corresponde a 35 unidades\n",
            "El producto menos vendido de la tienda 4 es Guitarra eléctrica que corresponde a 33 unidades\n"
          ]
        }
      ]
    },
    {
      "cell_type": "markdown",
      "source": [
        "# 5. Envío promedio por tienda"
      ],
      "metadata": {
        "id": "Fl0cGi3bZKqU"
      }
    },
    {
      "cell_type": "code",
      "source": [
        "costo_envio_tienda1 = round(sum(tienda1['Costo de envío'])/len(tienda1['Costo de envío']),(0))\n",
        "costo_envio_tienda2 = round(sum(tienda2['Costo de envío'])/len(tienda2['Costo de envío']),(0))\n",
        "costo_envio_tienda3 = round(sum(tienda3['Costo de envío'])/len(tienda3['Costo de envío']),(0))\n",
        "costo_envio_tienda4 = round(sum(tienda4['Costo de envío'])/len(tienda4['Costo de envío']),(0))\n",
        "\n",
        "\n",
        "print(f'El costo de envio, para la tienda 1 es de {costo_envio_tienda1}')\n",
        "print(f'El costo de envio, para la tienda 2 es de {costo_envio_tienda2}')\n",
        "print(f'El costo de envio, para la tienda 3 es de {costo_envio_tienda3}')\n",
        "print(f'El costo de envio, para la tienda 4 es de {costo_envio_tienda4}')"
      ],
      "metadata": {
        "id": "S2JeaCykZNy9",
        "colab": {
          "base_uri": "https://localhost:8080/"
        },
        "outputId": "af70c8f1-e5fd-43b3-d6f4-f999eae0c5ac"
      },
      "execution_count": null,
      "outputs": [
        {
          "output_type": "stream",
          "name": "stdout",
          "text": [
            "El costo de envio, para la tienda 1 es de 26019.0\n",
            "El costo de envio, para la tienda 2 es de 25216.0\n",
            "El costo de envio, para la tienda 3 es de 24806.0\n",
            "El costo de envio, para la tienda 4 es de 23459.0\n"
          ]
        }
      ]
    },
    {
      "cell_type": "code",
      "source": [],
      "metadata": {
        "id": "0tSdCie9ZQlt"
      },
      "execution_count": null,
      "outputs": []
    },
    {
      "cell_type": "markdown",
      "source": [
        "##   6.1 Gráfico \"Ventas totales por tienda\""
      ],
      "metadata": {
        "id": "tM00Jq97JLP_"
      }
    },
    {
      "cell_type": "code",
      "source": [
        "from matplotlib import pyplot as plt"
      ],
      "metadata": {
        "id": "T5LR7w26Fjzq"
      },
      "execution_count": null,
      "outputs": []
    },
    {
      "cell_type": "code",
      "source": [
        "ventas_por_tienda = [valor_total_tienda1,valor_total_tienda2,valor_total_tienda3,valor_total_tienda4]\n",
        "separacion = (0, 0.1, 0, 0)\n",
        "nombre_tienda = (\"Tienda1\",\"Tienda2\",\"Tienda3\",\"Tienda4\")\n",
        "colores = ['yellowgreen', 'gold', 'lightskyblue', 'lightcoral']\n",
        "\n"
      ],
      "metadata": {
        "id": "682W8f0oHHOD"
      },
      "execution_count": null,
      "outputs": []
    },
    {
      "cell_type": "code",
      "source": [
        "plt.pie(ventas_por_tienda, explode=separacion, labels=nombre_tienda, colors=colores,\n",
        "        autopct='%1.1f%%', shadow=True, startangle=90)\n",
        "plt.show()\n"
      ],
      "metadata": {
        "colab": {
          "base_uri": "https://localhost:8080/",
          "height": 406
        },
        "id": "txgfgZPrGdyP",
        "outputId": "3b3c3ca6-22cf-408e-86fe-42db007135ec"
      },
      "execution_count": null,
      "outputs": [
        {
          "output_type": "display_data",
          "data": {
            "text/plain": [
              "<Figure size 640x480 with 1 Axes>"
            ],
            "image/png": "[encoded data removed]"
          },
          "metadata": {}
        }
      ]
    },
    {
      "cell_type": "markdown",
      "source": [],
      "metadata": {
        "id": "e4ktzx4nG-yn"
      }
    },
    {
      "cell_type": "markdown",
      "source": [
        "##   Gráfico 2 \"Evaluación de los clientes a las tiendas\""
      ],
      "metadata": {
        "id": "FSqmYZAmJbeB"
      }
    },
    {
      "cell_type": "code",
      "source": [
        "evaluación_de_tiendas = [promedio_calificación_tienda1,promedio_calificación_tienda2,promedio_calificación_tienda3,promedio_calificación_tienda4]\n",
        "nombre_tienda = (\"Tienda1\",\"Tienda2\",\"Tienda3\",\"Tienda4\")"
      ],
      "metadata": {
        "id": "q5cQlUgYJpKy"
      },
      "execution_count": null,
      "outputs": []
    },
    {
      "cell_type": "code",
      "source": [
        "plt.plot(nombre_tienda,calificación_de_tiendas)\n",
        "plt.show()"
      ],
      "metadata": {
        "colab": {
          "base_uri": "https://localhost:8080/",
          "height": 430
        },
        "id": "FgSeE_6lKSRE",
        "outputId": "089fda2a-f6c3-4b09-cddb-7f64e019185e"
      },
      "execution_count": null,
      "outputs": [
        {
          "output_type": "display_data",
          "data": {
            "text/plain": [
              "<Figure size 640x480 with 1 Axes>"
            ],
            "image/png": "[encoded data removed]"
          },
          "metadata": {}
        }
      ]
    },
    {
      "cell_type": "markdown",
      "source": [
        "##   6.3 Gráfico \"Costo de envio por tienda\""
      ],
      "metadata": {
        "id": "1j_pAtA3Kvsy"
      }
    },
    {
      "cell_type": "code",
      "source": [
        "costo_envio_tienda = [costo_envio_tienda1,costo_envio_tienda2,costo_envio_tienda3,costo_envio_tienda4]\n",
        "nombre_tienda = (\"Tienda1\",\"Tienda2\",\"Tienda3\",\"Tienda4\")"
      ],
      "metadata": {
        "id": "szf9OA6wLm38"
      },
      "execution_count": null,
      "outputs": []
    },
    {
      "cell_type": "code",
      "source": [
        "plt.bar(nombre_tienda, Producto_mas_vendido_por_tienda)\n",
        "plt.savefig(\"grafico3.png\")\n",
        "plt.show()"
      ],
      "metadata": {
        "colab": {
          "base_uri": "https://localhost:8080/",
          "height": 430
        },
        "id": "iBXPCKCmLqWI",
        "outputId": "2dc80c9f-507e-41f3-9004-cf93aaa70334"
      },
      "execution_count": null,
      "outputs": [
        {
          "output_type": "display_data",
          "data": {
            "text/plain": [
              "<Figure size 640x480 with 1 Axes>"
            ],
            "image/png": "[encoded data removed]"
          },
          "metadata": {}
        }
      ]
    },
    {
      "cell_type": "markdown",
      "source": [
        "# 7. Infome"
      ],
      "metadata": {
        "id": "pFACWhriWk5M"
      }
    },
    {
      "cell_type": "markdown",
      "source": [
        "Luego de un análisis integral considerando los siguientes factores:\n",
        "\n",
        "Nivel de facturación.\n",
        "\n",
        "Calificación promedio de clientes.\n",
        "\n",
        "Rotación de productos.\n",
        "\n",
        "Costos logísticos (envío).\n",
        "\n",
        "Participación por categoría de producto.\n",
        "\n",
        "Se recomienda la venta de la Tienda 4.\n",
        "A pesar de contar con un costo logístico menor, la Tienda 4 presenta la menor facturación, calificación por debajo del promedio y una participación moderada en ventas por categoría. Esta decisión permitiría redirigir el capital a un nuevo emprendimiento con mayor potencial de crecimiento, cumpliendo con el principio de maximización del valor del accionista."
      ],
      "metadata": {
        "id": "hiZ7yyy98PJK"
      }
    }
  ]
}